{
 "cells": [
  {
   "cell_type": "code",
   "execution_count": 3,
   "id": "9dd307d8",
   "metadata": {},
   "outputs": [],
   "source": [
    "import numpy as np              # Массивы (матрицы, векторы, линейная алгебра)\n",
    "import matplotlib.pyplot as plt # Научная графика\n",
    "%matplotlib inline \n",
    "import pandas as pd             # Таблицы и временные ряды (dataframe, series)\n",
    "import seaborn as sns           # Еще больше красивой графики для визуализации данных\n",
    "import sklearn        "
   ]
  },
  {
   "cell_type": "markdown",
   "id": "c512ef7a",
   "metadata": {},
   "source": [
    "# Набор данных для рекомендации купонов в автомобиле"
   ]
  },
  {
   "cell_type": "markdown",
   "id": "b581dcb9",
   "metadata": {},
   "source": [
    "**Цель:** На основе этих данных мы должны предугадать примет ли человек купон в различных сценариях вождения.\n",
    "\n",
    "**Источник**:http://archive.ics.uci.edu/ml/datasets/in-vehicle+coupon+recommendation"
   ]
  },
  {
   "cell_type": "markdown",
   "id": "4d0bdbd3",
   "metadata": {},
   "source": [
    "# Признаки:\n",
    "1. **destination** - ***Пункт назначения*** (No Urgent Place, Home, Work) \n",
    "2. **passanger** - ***Пассажиры***: (Alone, Friend(s), Kid(s), Partner) \n",
    "3. **weather** - ***Погода*** (Sunny, Rainy, Snowy) \n",
    "4. **temperature** - ***Температура*** (55, 80, 30) \n",
    "5. **time** - ***Время*** (2PM, 10AM, 6PM, 7AM, 10PM)\n",
    "6. **coupon** - ***Купон*** (Restaurant(<20dlrs), Coffee House, Carry out & Take away, Bar, Restaurant(20-50dlrs))\n",
    "7. **expiration** - ***Время действия купона*** (1d, 2h (купон сгорает через 1 день или через 2 часа))\n",
    "8. **gender** ***Пол*** (Female, Male)\n",
    "9. **age** - ***Возраст*** (21, 46, 26, 31, 41, 50plus, 36, below21)\n",
    "10. **maritalStatus** - ***Семейное положение*** (Unmarried partner, Single, Married partner, Divorced, Widowed)\n",
    "11. **has_Children** - ***Наличие детей*** (1, 0)\n",
    "12. **education** - ***Образование*** (Some college - no degree, Bachelors degree, Associates degree, High School Graduate, Graduate degree (Masters or Doctorate), Some High School)\n",
    "13. **occupation** - ***Профессия*** (Unemployed, Architecture & Engineering, Student\n",
    "Education&Training&Library, Healthcare Support,\n",
    "Healthcare Practitioners & Technical, Sales & Related, Management,\n",
    "Arts Design Entertainment Sports & Media, Computer & Mathematical,\n",
    "Life Physical Social Science, Personal Care & Service,\n",
    "Community & Social Services, Office & Administrative Support,\n",
    "Construction & Extraction, Legal, Retired,\n",
    "Installation Maintenance & Repair, Transportation & Material Moving,\n",
    "Business & Financial, Protective Service,\n",
    "Food Preparation & Serving Related, Production Occupations,\n",
    "Building & Grounds Cleaning & Maintenance, Farming Fishing & Forestry)\n",
    "14. **income** - ***Доход в год*** (37500 - 49999, 62500 - 74999, 12500 - 24999, 75000 - 87499,\n",
    "50000 - 62499, 25000 - 37499, 100000 or More, 87500 - 99999, Less than 12500)\n",
    "15. **Bar** - ***Частота посещения бара в месяц*** (never, less1, 1-3, gt8, nan4-8)\n",
    "16. **CoffeeHouse** - ***Частота посещения кофейни в месяц*** (never, less1, 4-8, 1-3, gt8, nan)\n",
    "17. **CarryAway** - ***Частота покупки еды на-вынос*** (n4-8, 1-3, gt8, less1, never )\n",
    "18. **RestaurantLessThan20** - ***Частота посещения ресторана в месяц с средним чеком на 20долларов*** (4-8, 1-3, less1, gt8, never)\n",
    "19. **Restaurant20To50** - ***Частота посещения ресторана в месяц с средним чеком на 20-50 долларов*** (1-3, less1, never, gt8, 4-8, nan)\n",
    "20. **toCoupon_GEQ15min** - ***Заведение, в котором можно использовать купон, находится в 15мин езды?*** (0,1)\n",
    "21. **toCoupon_GEQ25min** - ***Заведение, в котором можно использовать купон, находится в 25мин езды?*** (0, 1)\n",
    "22. **direction_same** - ***Ресторан или бар находятся по пути*** (0, 1)\n",
    "23. **direction_opp** - ***Ресторан или бар не находятся по пути*** (0, 1)\n",
    "24. **Y** - ***Примут ли купон*** (1, 0)\n",
    "\n"
   ]
  },
  {
   "cell_type": "markdown",
   "id": "93e82eb2",
   "metadata": {},
   "source": [
    "# Считаем данные"
   ]
  },
  {
   "cell_type": "code",
   "execution_count": 4,
   "id": "b530864e",
   "metadata": {},
   "outputs": [],
   "source": [
    "url='https://raw.githubusercontent.com/MakBerl/ML_homeworks/main/in-vehicle-coupon-recommendation.csv'\n",
    "data_raw = pd.read_csv(url, delimiter=',')\n",
    "\n",
    "\n",
    "pd.set_option('max_columns',None)"
   ]
  },
  {
   "cell_type": "markdown",
   "id": "f12673f8",
   "metadata": {},
   "source": [
    "# Обработка пропущенных значений\n",
    "Выведем уникальные значение категориальных столбцов, чтобы, понять есть ли пропущенные значения и сколько их"
   ]
  },
  {
   "cell_type": "code",
   "execution_count": 5,
   "id": "4e82533e",
   "metadata": {},
   "outputs": [],
   "source": [
    "data_raw.drop('car', axis=1, inplace=True)"
   ]
  },
  {
   "cell_type": "code",
   "execution_count": 6,
   "id": "a37aac47",
   "metadata": {},
   "outputs": [],
   "source": [
    "data_raw['Bar'].fillna(data_raw['Bar'].mode().iloc[0], inplace=True)\n",
    "data_raw['CoffeeHouse'].fillna(data_raw['CoffeeHouse'].mode().iloc[0], inplace=True)\n",
    "data_raw['CarryAway'].fillna(data_raw['CarryAway'].mode().iloc[0], inplace=True)\n",
    "data_raw['RestaurantLessThan20'].fillna(data_raw['RestaurantLessThan20'].mode().iloc[0], inplace=True)\n",
    "data_raw['Restaurant20To50'].fillna(data_raw['Restaurant20To50'].mode().iloc[0], inplace=True)"
   ]
  },
  {
   "cell_type": "code",
   "execution_count": 7,
   "id": "6275f8d2",
   "metadata": {},
   "outputs": [],
   "source": [
    "data_raw.loc[data_raw['age'] == 'below21', 'age'] = 16\n",
    "data_raw.loc[data_raw['age'] == '50plus', 'age'] = 51"
   ]
  },
  {
   "cell_type": "code",
   "execution_count": 8,
   "id": "b709b7a2",
   "metadata": {},
   "outputs": [],
   "source": [
    "data_raw.loc[data_raw.income == 'Less than $12500', 'income'] = 6250\n",
    "data_raw.loc[data_raw.income == '$12500 - $24999', 'income'] = 18750\n",
    "data_raw.loc[data_raw.income == '$25000 - $37499', 'income'] = 31250\n",
    "data_raw.loc[data_raw.income == '$37500 - $49999', 'income'] =  43750\n",
    "data_raw.loc[data_raw.income == '$50000 - $62499', 'income'] = 56250\n",
    "data_raw.loc[data_raw.income == '$62500 - $74999', 'income'] = 68750\n",
    "data_raw.loc[data_raw.income == '$75000 - $87499', 'income'] =  81250\n",
    "data_raw.loc[data_raw.income == '$87500 - $99999', 'income'] = 93750\n",
    "data_raw.loc[data_raw.income == '$100000 or More', 'income'] = 106250"
   ]
  },
  {
   "cell_type": "code",
   "execution_count": 9,
   "id": "ce93515e",
   "metadata": {},
   "outputs": [],
   "source": [
    "data_raw=data_raw.replace(to_replace='gt8', value=10)\n",
    "data_raw=data_raw.replace(to_replace='4~8', value=6)\n",
    "data_raw=data_raw.replace(to_replace='1~3',value=2)\n",
    "data_raw=data_raw.replace(to_replace='less1',value=1)\n",
    "data_raw=data_raw.replace(to_replace='never',value=0)\n",
    "#data_raw.head()"
   ]
  },
  {
   "cell_type": "code",
   "execution_count": 10,
   "id": "be315802",
   "metadata": {},
   "outputs": [],
   "source": [
    "\n",
    "data_raw['age']=data_raw['age'].astype('int64')\n",
    "data_raw['income']=data_raw['income'].astype('int64')\n",
    "data_raw['Bar']=data_raw['Bar'].astype('int64')\n",
    "data_raw['CoffeeHouse']=data_raw['CoffeeHouse'].astype('int64')\n",
    "data_raw['CarryAway']=data_raw['CarryAway'].astype('int64')\n",
    "data_raw['RestaurantLessThan20']=data_raw['RestaurantLessThan20'].astype('int64')\n",
    "data_raw['Restaurant20To50']=data_raw['Restaurant20To50'].astype('int64')\n"
   ]
  },
  {
   "cell_type": "code",
   "execution_count": 11,
   "id": "6e8b92b3",
   "metadata": {},
   "outputs": [],
   "source": [
    "data_raw['has_children']=data_raw['has_children']==1\n",
    "data_raw['toCoupon_GEQ5min']=data_raw['toCoupon_GEQ5min']==1\n",
    "data_raw['toCoupon_GEQ15min']=data_raw['toCoupon_GEQ15min']==1\n",
    "data_raw['toCoupon_GEQ25min']=data_raw['toCoupon_GEQ25min']==1\n",
    "data_raw['direction_same']=data_raw['direction_same']==1\n",
    "data_raw['direction_opp']=data_raw['direction_opp']==1\n",
    "data_raw['gender']=data_raw['gender']=='Female'\n",
    "data_raw['expiration']=data_raw['expiration']=='1d'\n",
    "data_raw['Y']=data_raw['Y']==1\n"
   ]
  },
  {
   "cell_type": "markdown",
   "id": "3c7af6bd",
   "metadata": {},
   "source": [
    "Пометим столбцы \n",
    "**destination, passanger, weather, time, coupon, maritalStatus, education, occupation**\\\n",
    "как ***категориальные***"
   ]
  },
  {
   "cell_type": "code",
   "execution_count": 12,
   "id": "9b58864f",
   "metadata": {},
   "outputs": [],
   "source": [
    "data_raw['destination'] = data_raw['destination'].astype('category')\n",
    "data_raw['passanger'] = data_raw['passanger'].astype('category')\n",
    "data_raw['weather'] = data_raw['weather'].astype('category')\n",
    "data_raw['time'] = data_raw['time'].astype('category')\n",
    "data_raw['coupon'] = data_raw['coupon'].astype('category')\n",
    "data_raw['maritalStatus'] = data_raw['maritalStatus'].astype('category')\n",
    "data_raw['education'] = data_raw['education'].astype('category')\n",
    "data_raw['occupation'] = data_raw['occupation'].astype('category')"
   ]
  },
  {
   "cell_type": "markdown",
   "id": "838a9e65",
   "metadata": {},
   "source": [
    "По корреляции видим, что стобцы **direction_same** и **derection_opp** зависят друг от друга, удалим один из них"
   ]
  },
  {
   "cell_type": "code",
   "execution_count": 13,
   "id": "989789da",
   "metadata": {},
   "outputs": [],
   "source": [
    "data_raw.drop('direction_opp',axis=1,inplace=True)"
   ]
  },
  {
   "cell_type": "markdown",
   "id": "bcb48cb5",
   "metadata": {},
   "source": [
    "Так же заметим, что в столбец **toCoupon_GEQ5min** никак не коррелирует ни с одном из признаков и в нем все элементы равны **1**, избавимся от него"
   ]
  },
  {
   "cell_type": "code",
   "execution_count": 14,
   "id": "f8887e91",
   "metadata": {},
   "outputs": [],
   "source": [
    "data_raw.drop('toCoupon_GEQ5min',axis=1,inplace=True)"
   ]
  },
  {
   "cell_type": "markdown",
   "id": "149749b8",
   "metadata": {},
   "source": [
    "# Отбор признаков"
   ]
  },
  {
   "cell_type": "code",
   "execution_count": 15,
   "id": "72f14717",
   "metadata": {},
   "outputs": [],
   "source": [
    "data_raw.drop('occupation',axis=1,inplace=True)\n",
    "data_raw.drop('time',axis=1,inplace=True)\n",
    "data_raw.drop('education',axis=1,inplace=True)"
   ]
  },
  {
   "cell_type": "code",
   "execution_count": 16,
   "id": "e0f354aa",
   "metadata": {},
   "outputs": [
    {
     "name": "stdout",
     "output_type": "stream",
     "text": [
      "['expiration', 'gender', 'has_children', 'toCoupon_GEQ15min', 'toCoupon_GEQ25min', 'direction_same', 'Y']\n",
      "['destination', 'passanger', 'weather', 'coupon', 'maritalStatus']\n",
      "['temperature', 'age', 'income', 'Bar', 'CoffeeHouse', 'CarryAway', 'RestaurantLessThan20', 'Restaurant20To50']\n"
     ]
    }
   ],
   "source": [
    "bool_columns=[c for c in data_raw.columns if data_raw[c].dtype.name == 'bool']\n",
    "categorical_columns = [c for c in data_raw.columns if data_raw[c].dtype.name == 'category']\n",
    "#numerical_columns   = [c for c in data_raw.columns if data_raw[c].dtype.name != 'object']\n",
    "numerical_columns   = [c for c in data_raw.columns if data_raw[c].dtype.name == 'int64']\n",
    "print(bool_columns)\n",
    "print(categorical_columns)\n",
    "print(numerical_columns)"
   ]
  },
  {
   "cell_type": "markdown",
   "id": "c1b9871c",
   "metadata": {},
   "source": [
    "# Обработка  признаков для ML"
   ]
  },
  {
   "cell_type": "markdown",
   "id": "bf176b23",
   "metadata": {},
   "source": [
    "Факторизуем бинарные признаки"
   ]
  },
  {
   "cell_type": "code",
   "execution_count": 17,
   "id": "2797ef91",
   "metadata": {},
   "outputs": [],
   "source": [
    "for i in bool_columns:\n",
    "    data_raw[i] = pd.factorize(data_raw[i])[0]\n",
    "bin_table=data_raw[bool_columns]"
   ]
  },
  {
   "cell_type": "markdown",
   "id": "68b2fa33",
   "metadata": {},
   "source": [
    "Проведем бинаризацию категориальных признаков"
   ]
  },
  {
   "cell_type": "code",
   "execution_count": 18,
   "id": "46ac91f4",
   "metadata": {},
   "outputs": [],
   "source": [
    "categ_table = pd.DataFrame()\n",
    "\n",
    "#job_dummies = pd.get_dummies(data_raw['job'])\n",
    "#cat_table=pd.concat((job_dummies, marital_dummies,education_dummies,month_dummies), axis=1)\n",
    "\n",
    "for i in categorical_columns:\n",
    "    tmp_table=pd.get_dummies(data_raw[i])\n",
    "    categ_table=pd.concat((categ_table,tmp_table), axis=1)\n"
   ]
  },
  {
   "cell_type": "markdown",
   "id": "a0df06c3",
   "metadata": {},
   "source": [
    "Проведем стандартизацию числовых признаков"
   ]
  },
  {
   "cell_type": "code",
   "execution_count": 20,
   "id": "494a2df6",
   "metadata": {},
   "outputs": [],
   "source": [
    "#num_table_stand=data_raw[numerical_columns]\n",
    "num_table_stand = (data_raw[numerical_columns]- data_raw[numerical_columns].mean(axis = 0))/data_raw[numerical_columns].std(axis = 0)"
   ]
  },
  {
   "cell_type": "markdown",
   "id": "784be0a1",
   "metadata": {},
   "source": [
    "Cоединяем все 3 таблицы"
   ]
  },
  {
   "cell_type": "code",
   "execution_count": 21,
   "id": "67178824",
   "metadata": {},
   "outputs": [
    {
     "data": {
      "text/html": [
       "<div>\n",
       "<style scoped>\n",
       "    .dataframe tbody tr th:only-of-type {\n",
       "        vertical-align: middle;\n",
       "    }\n",
       "\n",
       "    .dataframe tbody tr th {\n",
       "        vertical-align: top;\n",
       "    }\n",
       "\n",
       "    .dataframe thead th {\n",
       "        text-align: right;\n",
       "    }\n",
       "</style>\n",
       "<table border=\"1\" class=\"dataframe\">\n",
       "  <thead>\n",
       "    <tr style=\"text-align: right;\">\n",
       "      <th></th>\n",
       "      <th>temperature</th>\n",
       "      <th>age</th>\n",
       "      <th>income</th>\n",
       "      <th>Bar</th>\n",
       "      <th>CoffeeHouse</th>\n",
       "      <th>CarryAway</th>\n",
       "      <th>RestaurantLessThan20</th>\n",
       "      <th>Restaurant20To50</th>\n",
       "      <th>expiration</th>\n",
       "      <th>gender</th>\n",
       "      <th>has_children</th>\n",
       "      <th>toCoupon_GEQ15min</th>\n",
       "      <th>toCoupon_GEQ25min</th>\n",
       "      <th>direction_same</th>\n",
       "      <th>Y</th>\n",
       "      <th>Home</th>\n",
       "      <th>No Urgent Place</th>\n",
       "      <th>Work</th>\n",
       "      <th>Alone</th>\n",
       "      <th>Friend(s)</th>\n",
       "      <th>Kid(s)</th>\n",
       "      <th>Partner</th>\n",
       "      <th>Rainy</th>\n",
       "      <th>Snowy</th>\n",
       "      <th>Sunny</th>\n",
       "      <th>Bar</th>\n",
       "      <th>Carry out &amp; Take away</th>\n",
       "      <th>Coffee House</th>\n",
       "      <th>Restaurant(20-50)</th>\n",
       "      <th>Restaurant(&lt;20)</th>\n",
       "      <th>Divorced</th>\n",
       "      <th>Married partner</th>\n",
       "      <th>Single</th>\n",
       "      <th>Unmarried partner</th>\n",
       "      <th>Widowed</th>\n",
       "    </tr>\n",
       "  </thead>\n",
       "  <tbody>\n",
       "    <tr>\n",
       "      <th>0</th>\n",
       "      <td>-0.433413</td>\n",
       "      <td>-1.055786</td>\n",
       "      <td>-0.290421</td>\n",
       "      <td>-0.66384</td>\n",
       "      <td>-0.846294</td>\n",
       "      <td>-0.731327</td>\n",
       "      <td>0.788929</td>\n",
       "      <td>0.241912</td>\n",
       "      <td>-0.888079</td>\n",
       "      <td>-0.97366</td>\n",
       "      <td>-1.189331</td>\n",
       "      <td>-1.131536</td>\n",
       "      <td>-0.367731</td>\n",
       "      <td>-0.522946</td>\n",
       "      <td>-0.87130</td>\n",
       "      <td>-0.585339</td>\n",
       "      <td>1.009307</td>\n",
       "      <td>-0.576478</td>\n",
       "      <td>0.858072</td>\n",
       "      <td>-0.592745</td>\n",
       "      <td>-0.293493</td>\n",
       "      <td>-0.304291</td>\n",
       "      <td>-0.324727</td>\n",
       "      <td>-0.352928</td>\n",
       "      <td>0.509595</td>\n",
       "      <td>-0.434825</td>\n",
       "      <td>-0.482198</td>\n",
       "      <td>-0.678166</td>\n",
       "      <td>-0.365101</td>\n",
       "      <td>1.884803</td>\n",
       "      <td>-0.20592</td>\n",
       "      <td>-0.820009</td>\n",
       "      <td>-0.77398</td>\n",
       "      <td>2.191347</td>\n",
       "      <td>-0.101757</td>\n",
       "    </tr>\n",
       "    <tr>\n",
       "      <th>1</th>\n",
       "      <td>0.871765</td>\n",
       "      <td>-1.055786</td>\n",
       "      <td>-0.290421</td>\n",
       "      <td>-0.66384</td>\n",
       "      <td>-0.846294</td>\n",
       "      <td>-0.731327</td>\n",
       "      <td>0.788929</td>\n",
       "      <td>0.241912</td>\n",
       "      <td>1.125937</td>\n",
       "      <td>-0.97366</td>\n",
       "      <td>-1.189331</td>\n",
       "      <td>-1.131536</td>\n",
       "      <td>-0.367731</td>\n",
       "      <td>-0.522946</td>\n",
       "      <td>1.14762</td>\n",
       "      <td>-0.585339</td>\n",
       "      <td>1.009307</td>\n",
       "      <td>-0.576478</td>\n",
       "      <td>-1.165312</td>\n",
       "      <td>1.686933</td>\n",
       "      <td>-0.293493</td>\n",
       "      <td>-0.304291</td>\n",
       "      <td>-0.324727</td>\n",
       "      <td>-0.352928</td>\n",
       "      <td>0.509595</td>\n",
       "      <td>-0.434825</td>\n",
       "      <td>-0.482198</td>\n",
       "      <td>1.474450</td>\n",
       "      <td>-0.365101</td>\n",
       "      <td>-0.530517</td>\n",
       "      <td>-0.20592</td>\n",
       "      <td>-0.820009</td>\n",
       "      <td>-0.77398</td>\n",
       "      <td>2.191347</td>\n",
       "      <td>-0.101757</td>\n",
       "    </tr>\n",
       "    <tr>\n",
       "      <th>2</th>\n",
       "      <td>0.871765</td>\n",
       "      <td>-1.055786</td>\n",
       "      <td>-0.290421</td>\n",
       "      <td>-0.66384</td>\n",
       "      <td>-0.846294</td>\n",
       "      <td>-0.731327</td>\n",
       "      <td>0.788929</td>\n",
       "      <td>0.241912</td>\n",
       "      <td>1.125937</td>\n",
       "      <td>-0.97366</td>\n",
       "      <td>-1.189331</td>\n",
       "      <td>0.883685</td>\n",
       "      <td>-0.367731</td>\n",
       "      <td>-0.522946</td>\n",
       "      <td>-0.87130</td>\n",
       "      <td>-0.585339</td>\n",
       "      <td>1.009307</td>\n",
       "      <td>-0.576478</td>\n",
       "      <td>-1.165312</td>\n",
       "      <td>1.686933</td>\n",
       "      <td>-0.293493</td>\n",
       "      <td>-0.304291</td>\n",
       "      <td>-0.324727</td>\n",
       "      <td>-0.352928</td>\n",
       "      <td>0.509595</td>\n",
       "      <td>-0.434825</td>\n",
       "      <td>2.073673</td>\n",
       "      <td>-0.678166</td>\n",
       "      <td>-0.365101</td>\n",
       "      <td>-0.530517</td>\n",
       "      <td>-0.20592</td>\n",
       "      <td>-0.820009</td>\n",
       "      <td>-0.77398</td>\n",
       "      <td>2.191347</td>\n",
       "      <td>-0.101757</td>\n",
       "    </tr>\n",
       "    <tr>\n",
       "      <th>3</th>\n",
       "      <td>0.871765</td>\n",
       "      <td>-1.055786</td>\n",
       "      <td>-0.290421</td>\n",
       "      <td>-0.66384</td>\n",
       "      <td>-0.846294</td>\n",
       "      <td>-0.731327</td>\n",
       "      <td>0.788929</td>\n",
       "      <td>0.241912</td>\n",
       "      <td>1.125937</td>\n",
       "      <td>-0.97366</td>\n",
       "      <td>-1.189331</td>\n",
       "      <td>0.883685</td>\n",
       "      <td>-0.367731</td>\n",
       "      <td>-0.522946</td>\n",
       "      <td>1.14762</td>\n",
       "      <td>-0.585339</td>\n",
       "      <td>1.009307</td>\n",
       "      <td>-0.576478</td>\n",
       "      <td>-1.165312</td>\n",
       "      <td>1.686933</td>\n",
       "      <td>-0.293493</td>\n",
       "      <td>-0.304291</td>\n",
       "      <td>-0.324727</td>\n",
       "      <td>-0.352928</td>\n",
       "      <td>0.509595</td>\n",
       "      <td>-0.434825</td>\n",
       "      <td>-0.482198</td>\n",
       "      <td>1.474450</td>\n",
       "      <td>-0.365101</td>\n",
       "      <td>-0.530517</td>\n",
       "      <td>-0.20592</td>\n",
       "      <td>-0.820009</td>\n",
       "      <td>-0.77398</td>\n",
       "      <td>2.191347</td>\n",
       "      <td>-0.101757</td>\n",
       "    </tr>\n",
       "    <tr>\n",
       "      <th>4</th>\n",
       "      <td>0.871765</td>\n",
       "      <td>-1.055786</td>\n",
       "      <td>-0.290421</td>\n",
       "      <td>-0.66384</td>\n",
       "      <td>-0.846294</td>\n",
       "      <td>-0.731327</td>\n",
       "      <td>0.788929</td>\n",
       "      <td>0.241912</td>\n",
       "      <td>-0.888079</td>\n",
       "      <td>-0.97366</td>\n",
       "      <td>-1.189331</td>\n",
       "      <td>0.883685</td>\n",
       "      <td>-0.367731</td>\n",
       "      <td>-0.522946</td>\n",
       "      <td>1.14762</td>\n",
       "      <td>-0.585339</td>\n",
       "      <td>1.009307</td>\n",
       "      <td>-0.576478</td>\n",
       "      <td>-1.165312</td>\n",
       "      <td>1.686933</td>\n",
       "      <td>-0.293493</td>\n",
       "      <td>-0.304291</td>\n",
       "      <td>-0.324727</td>\n",
       "      <td>-0.352928</td>\n",
       "      <td>0.509595</td>\n",
       "      <td>-0.434825</td>\n",
       "      <td>-0.482198</td>\n",
       "      <td>1.474450</td>\n",
       "      <td>-0.365101</td>\n",
       "      <td>-0.530517</td>\n",
       "      <td>-0.20592</td>\n",
       "      <td>-0.820009</td>\n",
       "      <td>-0.77398</td>\n",
       "      <td>2.191347</td>\n",
       "      <td>-0.101757</td>\n",
       "    </tr>\n",
       "  </tbody>\n",
       "</table>\n",
       "</div>"
      ],
      "text/plain": [
       "   temperature       age    income      Bar  CoffeeHouse  CarryAway  \\\n",
       "0    -0.433413 -1.055786 -0.290421 -0.66384    -0.846294  -0.731327   \n",
       "1     0.871765 -1.055786 -0.290421 -0.66384    -0.846294  -0.731327   \n",
       "2     0.871765 -1.055786 -0.290421 -0.66384    -0.846294  -0.731327   \n",
       "3     0.871765 -1.055786 -0.290421 -0.66384    -0.846294  -0.731327   \n",
       "4     0.871765 -1.055786 -0.290421 -0.66384    -0.846294  -0.731327   \n",
       "\n",
       "   RestaurantLessThan20  Restaurant20To50  expiration   gender  has_children  \\\n",
       "0              0.788929          0.241912   -0.888079 -0.97366     -1.189331   \n",
       "1              0.788929          0.241912    1.125937 -0.97366     -1.189331   \n",
       "2              0.788929          0.241912    1.125937 -0.97366     -1.189331   \n",
       "3              0.788929          0.241912    1.125937 -0.97366     -1.189331   \n",
       "4              0.788929          0.241912   -0.888079 -0.97366     -1.189331   \n",
       "\n",
       "   toCoupon_GEQ15min  toCoupon_GEQ25min  direction_same        Y      Home  \\\n",
       "0          -1.131536          -0.367731       -0.522946 -0.87130 -0.585339   \n",
       "1          -1.131536          -0.367731       -0.522946  1.14762 -0.585339   \n",
       "2           0.883685          -0.367731       -0.522946 -0.87130 -0.585339   \n",
       "3           0.883685          -0.367731       -0.522946  1.14762 -0.585339   \n",
       "4           0.883685          -0.367731       -0.522946  1.14762 -0.585339   \n",
       "\n",
       "   No Urgent Place      Work     Alone  Friend(s)    Kid(s)   Partner  \\\n",
       "0         1.009307 -0.576478  0.858072  -0.592745 -0.293493 -0.304291   \n",
       "1         1.009307 -0.576478 -1.165312   1.686933 -0.293493 -0.304291   \n",
       "2         1.009307 -0.576478 -1.165312   1.686933 -0.293493 -0.304291   \n",
       "3         1.009307 -0.576478 -1.165312   1.686933 -0.293493 -0.304291   \n",
       "4         1.009307 -0.576478 -1.165312   1.686933 -0.293493 -0.304291   \n",
       "\n",
       "      Rainy     Snowy     Sunny       Bar  Carry out & Take away  \\\n",
       "0 -0.324727 -0.352928  0.509595 -0.434825              -0.482198   \n",
       "1 -0.324727 -0.352928  0.509595 -0.434825              -0.482198   \n",
       "2 -0.324727 -0.352928  0.509595 -0.434825               2.073673   \n",
       "3 -0.324727 -0.352928  0.509595 -0.434825              -0.482198   \n",
       "4 -0.324727 -0.352928  0.509595 -0.434825              -0.482198   \n",
       "\n",
       "   Coffee House  Restaurant(20-50)  Restaurant(<20)  Divorced  \\\n",
       "0     -0.678166          -0.365101         1.884803  -0.20592   \n",
       "1      1.474450          -0.365101        -0.530517  -0.20592   \n",
       "2     -0.678166          -0.365101        -0.530517  -0.20592   \n",
       "3      1.474450          -0.365101        -0.530517  -0.20592   \n",
       "4      1.474450          -0.365101        -0.530517  -0.20592   \n",
       "\n",
       "   Married partner   Single  Unmarried partner   Widowed  \n",
       "0        -0.820009 -0.77398           2.191347 -0.101757  \n",
       "1        -0.820009 -0.77398           2.191347 -0.101757  \n",
       "2        -0.820009 -0.77398           2.191347 -0.101757  \n",
       "3        -0.820009 -0.77398           2.191347 -0.101757  \n",
       "4        -0.820009 -0.77398           2.191347 -0.101757  "
      ]
     },
     "execution_count": 21,
     "metadata": {},
     "output_type": "execute_result"
    }
   ],
   "source": [
    "#TEST\n",
    "categ_table = (categ_table- categ_table.mean(axis = 0))/categ_table.std(axis = 0)\n",
    "bin_table = (bin_table- bin_table.mean(axis = 0))/bin_table.std(axis = 0)\n",
    "#TEST\n",
    "\n",
    "data_stand=pd.concat((num_table_stand,bin_table, categ_table),axis=1)\n",
    "data_stand.head()"
   ]
  },
  {
   "cell_type": "code",
   "execution_count": 22,
   "id": "4e16a1dd",
   "metadata": {},
   "outputs": [
    {
     "data": {
      "text/plain": [
       "35"
      ]
     },
     "execution_count": 22,
     "metadata": {},
     "output_type": "execute_result"
    }
   ],
   "source": [
    "len(data_stand.columns)"
   ]
  },
  {
   "cell_type": "markdown",
   "id": "f61ff5f1",
   "metadata": {},
   "source": [
    "# Подготовка тренировочной и тестовой выборки"
   ]
  },
  {
   "cell_type": "code",
   "execution_count": 23,
   "id": "6c9d1aa9",
   "metadata": {
    "scrolled": false
   },
   "outputs": [],
   "source": [
    "#new\n",
    "y = data_raw['Y']\n",
    "\n",
    "#old\n",
    "#y = data_stand['Y']\n",
    "X = data_stand.drop(['Y'], axis=1)\n",
    "features_names=X.columns"
   ]
  },
  {
   "cell_type": "code",
   "execution_count": 24,
   "id": "9a09376e",
   "metadata": {},
   "outputs": [
    {
     "name": "stdout",
     "output_type": "stream",
     "text": [
      "9513 3171\n"
     ]
    }
   ],
   "source": [
    "from sklearn.model_selection import train_test_split\n",
    "X_train, X_test, y_train, y_test = train_test_split(X, y, test_size = 0.25, random_state = 3528)\n",
    "\n",
    "N_train, _ = X_train.shape \n",
    "N_test,  _ = X_test.shape \n",
    "print(N_train, N_test)"
   ]
  },
  {
   "cell_type": "markdown",
   "id": "577c4313",
   "metadata": {},
   "source": [
    "# MLPClassificator"
   ]
  },
  {
   "cell_type": "code",
   "execution_count": 188,
   "id": "1e11d023",
   "metadata": {},
   "outputs": [],
   "source": [
    "from sklearn.neural_network import MLPClassifier"
   ]
  },
  {
   "cell_type": "markdown",
   "id": "1646bdd0",
   "metadata": {},
   "source": [
    "Попробуем использовать классификатор с различными параметрами:"
   ]
  },
  {
   "cell_type": "markdown",
   "id": "da63d680",
   "metadata": {},
   "source": [
    "### lbfgs"
   ]
  },
  {
   "cell_type": "code",
   "execution_count": 274,
   "id": "c8d9d890",
   "metadata": {},
   "outputs": [
    {
     "name": "stdout",
     "output_type": "stream",
     "text": [
      "Ошибка на обучающей выборке 0.00735835172921262\n",
      "Ошибка на тестовой выборке 0.3465783664459161\n"
     ]
    }
   ],
   "source": [
    "mlp_model = MLPClassifier(hidden_layer_sizes = (100,100,),\n",
    "                          solver = 'lbfgs', \n",
    "                          activation = 'logistic',\n",
    "                          max_iter=100000,\n",
    "                          random_state = 44)\n",
    "mlp_model.fit(X_train, y_train)\n",
    "arr_test_e=(1 - mlp_model.score(X_test, y_test))\n",
    "arr_train_e=(1- mlp_model.score(X_train, y_train))\n",
    "print('Ошибка на обучающей выборке', arr_train_e)\n",
    "print('Ошибка на тестовой выборке', arr_test_e)"
   ]
  },
  {
   "cell_type": "code",
   "execution_count": 275,
   "id": "8af2bec5",
   "metadata": {},
   "outputs": [
    {
     "name": "stdout",
     "output_type": "stream",
     "text": [
      "Ошибка на обучающей выборке 0.32818248712288445\n",
      "Ошибка на тестовой выборке 0.3308104698833175\n"
     ]
    }
   ],
   "source": [
    "mlp_model = MLPClassifier(hidden_layer_sizes = (100,100,),\n",
    "                          solver = 'lbfgs', \n",
    "                          activation = 'identity',\n",
    "                          max_iter=100000,\n",
    "                          random_state = 44)\n",
    "mlp_model.fit(X_train, y_train)\n",
    "arr_test_e=(1 - mlp_model.score(X_test, y_test))\n",
    "arr_train_e=(1- mlp_model.score(X_train, y_train))\n",
    "print('Ошибка на обучающей выборке', arr_train_e)\n",
    "print('Ошибка на тестовой выборке', arr_test_e)"
   ]
  },
  {
   "cell_type": "code",
   "execution_count": 276,
   "id": "37d8b539",
   "metadata": {},
   "outputs": [
    {
     "name": "stdout",
     "output_type": "stream",
     "text": [
      "Ошибка на обучающей выборке 0.00735835172921262\n",
      "Ошибка на тестовой выборке 0.32765689057079783\n"
     ]
    }
   ],
   "source": [
    "mlp_model = MLPClassifier(hidden_layer_sizes = (100,100,),\n",
    "                          solver = 'lbfgs', \n",
    "                          activation = 'relu',\n",
    "                          max_iter=100000,\n",
    "                          random_state = 44)\n",
    "mlp_model.fit(X_train, y_train)\n",
    "arr_test_e=(1 - mlp_model.score(X_test, y_test))\n",
    "arr_train_e=(1- mlp_model.score(X_train, y_train))\n",
    "print('Ошибка на обучающей выборке', arr_train_e)\n",
    "print('Ошибка на тестовой выборке', arr_test_e)"
   ]
  },
  {
   "cell_type": "code",
   "execution_count": 277,
   "id": "cfd53aa0",
   "metadata": {},
   "outputs": [
    {
     "name": "stdout",
     "output_type": "stream",
     "text": [
      "Ошибка на обучающей выборке 0.00735835172921262\n",
      "Ошибка на тестовой выборке 0.3465783664459161\n"
     ]
    }
   ],
   "source": [
    "mlp_model = MLPClassifier(hidden_layer_sizes = (100,100,),\n",
    "                          solver = 'lbfgs', \n",
    "                          activation = 'logistic',\n",
    "                          max_iter=100000,\n",
    "                          random_state = 44)\n",
    "mlp_model.fit(X_train, y_train)\n",
    "arr_test_e=(1 - mlp_model.score(X_test, y_test))\n",
    "arr_train_e=(1- mlp_model.score(X_train, y_train))\n",
    "print('Ошибка на обучающей выборке', arr_train_e)\n",
    "print('Ошибка на тестовой выборке', arr_test_e)"
   ]
  },
  {
   "cell_type": "markdown",
   "id": "c3653c61",
   "metadata": {},
   "source": [
    "### sgd"
   ]
  },
  {
   "cell_type": "code",
   "execution_count": 279,
   "id": "10a64129",
   "metadata": {},
   "outputs": [
    {
     "name": "stdout",
     "output_type": "stream",
     "text": [
      "Ошибка на обучающей выборке 0.32818248712288445\n",
      "Ошибка на тестовой выборке 0.336802270577105\n"
     ]
    }
   ],
   "source": [
    "mlp_model = MLPClassifier(hidden_layer_sizes = (100,100,),\n",
    "                          solver = 'sgd', \n",
    "                          activation = 'logistic',\n",
    "                          max_iter=100000,\n",
    "                          random_state = 44)\n",
    "mlp_model.fit(X_train, y_train)\n",
    "arr_test_e=(1 - mlp_model.score(X_test, y_test))\n",
    "arr_train_e=(1- mlp_model.score(X_train, y_train))\n",
    "print('Ошибка на обучающей выборке', arr_train_e)\n",
    "print('Ошибка на тестовой выборке', arr_test_e)"
   ]
  },
  {
   "cell_type": "code",
   "execution_count": 280,
   "id": "12a2b634",
   "metadata": {},
   "outputs": [
    {
     "name": "stdout",
     "output_type": "stream",
     "text": [
      "Ошибка на обучающей выборке 0.3284978450541365\n",
      "Ошибка на тестовой выборке 0.33522548092084514\n"
     ]
    }
   ],
   "source": [
    "mlp_model = MLPClassifier(hidden_layer_sizes = (100,100,),\n",
    "                          solver = 'sgd', \n",
    "                          activation = 'identity',\n",
    "                          max_iter=100000,\n",
    "                          random_state = 44)\n",
    "mlp_model.fit(X_train, y_train)\n",
    "arr_test_e=(1 - mlp_model.score(X_test, y_test))\n",
    "arr_train_e=(1- mlp_model.score(X_train, y_train))\n",
    "print('Ошибка на обучающей выборке', arr_train_e)\n",
    "print('Ошибка на тестовой выборке', arr_test_e)"
   ]
  },
  {
   "cell_type": "code",
   "execution_count": 281,
   "id": "a98f61cc",
   "metadata": {},
   "outputs": [
    {
     "name": "stdout",
     "output_type": "stream",
     "text": [
      "Ошибка на обучающей выборке 0.015978135183433162\n",
      "Ошибка на тестовой выборке 0.3286029643645537\n"
     ]
    }
   ],
   "source": [
    "mlp_model = MLPClassifier(hidden_layer_sizes = (100,100,),\n",
    "                          solver = 'sgd', \n",
    "                          activation = 'relu',\n",
    "                          max_iter=100000,\n",
    "                          random_state = 44)\n",
    "mlp_model.fit(X_train, y_train)\n",
    "arr_test_e=(1 - mlp_model.score(X_test, y_test))\n",
    "arr_train_e=(1- mlp_model.score(X_train, y_train))\n",
    "print('Ошибка на обучающей выборке', arr_train_e)\n",
    "print('Ошибка на тестовой выборке', arr_test_e)"
   ]
  },
  {
   "cell_type": "code",
   "execution_count": 282,
   "id": "3989d801",
   "metadata": {},
   "outputs": [
    {
     "name": "stdout",
     "output_type": "stream",
     "text": [
      "Ошибка на обучающей выборке 0.32818248712288445\n",
      "Ошибка на тестовой выборке 0.336802270577105\n"
     ]
    }
   ],
   "source": [
    "mlp_model = MLPClassifier(hidden_layer_sizes = (100,100,),\n",
    "                          solver = 'sgd', \n",
    "                          activation = 'logistic',\n",
    "                          max_iter=100000,\n",
    "                          random_state = 44)\n",
    "mlp_model.fit(X_train, y_train)\n",
    "arr_test_e=(1 - mlp_model.score(X_test, y_test))\n",
    "arr_train_e=(1- mlp_model.score(X_train, y_train))\n",
    "print('Ошибка на обучающей выборке', arr_train_e)\n",
    "print('Ошибка на тестовой выборке', arr_test_e)"
   ]
  },
  {
   "cell_type": "markdown",
   "id": "de662dc4",
   "metadata": {},
   "source": [
    "### adam"
   ]
  },
  {
   "cell_type": "code",
   "execution_count": 323,
   "id": "8cd5ac4d",
   "metadata": {},
   "outputs": [
    {
     "name": "stdout",
     "output_type": "stream",
     "text": [
      "Ошибка на обучающей выборке 0.07042993797960684\n",
      "Ошибка на тестовой выборке 0.3336486912645853\n"
     ]
    }
   ],
   "source": [
    "mlp_model = MLPClassifier(hidden_layer_sizes = (100,100,),\n",
    "                          solver = 'adam', \n",
    "                          activation = 'logistic',\n",
    "                          max_iter=100000,\n",
    "                          random_state = 44)\n",
    "mlp_model.fit(X_train, y_train)\n",
    "arr_test_e=(1 - mlp_model.score(X_test, y_test))\n",
    "arr_train_e=(1- mlp_model.score(X_train, y_train))\n",
    "print('Ошибка на обучающей выборке', arr_train_e)\n",
    "print('Ошибка на тестовой выборке', arr_test_e)"
   ]
  },
  {
   "cell_type": "code",
   "execution_count": 285,
   "id": "1ef9689a",
   "metadata": {},
   "outputs": [
    {
     "name": "stdout",
     "output_type": "stream",
     "text": [
      "Ошибка на обучающей выборке 0.3282876064333018\n",
      "Ошибка на тестовой выборке 0.33333333333333337\n"
     ]
    }
   ],
   "source": [
    "mlp_model = MLPClassifier(hidden_layer_sizes = (100,100,),\n",
    "                          solver = 'adam', \n",
    "                          activation = 'identity',\n",
    "                          max_iter=100000,\n",
    "                          random_state = 44)\n",
    "mlp_model.fit(X_train, y_train)\n",
    "arr_test_e=(1 - mlp_model.score(X_test, y_test))\n",
    "arr_train_e=(1- mlp_model.score(X_train, y_train))\n",
    "print('Ошибка на обучающей выборке', arr_train_e)\n",
    "print('Ошибка на тестовой выборке', arr_test_e)"
   ]
  },
  {
   "cell_type": "code",
   "execution_count": 286,
   "id": "65d532eb",
   "metadata": {},
   "outputs": [
    {
     "name": "stdout",
     "output_type": "stream",
     "text": [
      "Ошибка на обучающей выборке 0.009776095868811119\n",
      "Ошибка на тестовой выборке 0.315357931251971\n"
     ]
    }
   ],
   "source": [
    "mlp_model = MLPClassifier(hidden_layer_sizes = (100,100,),\n",
    "                          solver = 'adam', \n",
    "                          activation = 'relu',\n",
    "                          max_iter=100000,\n",
    "                          random_state = 44)\n",
    "mlp_model.fit(X_train, y_train)\n",
    "arr_test_e=(1 - mlp_model.score(X_test, y_test))\n",
    "arr_train_e=(1- mlp_model.score(X_train, y_train))\n",
    "print('Ошибка на обучающей выборке', arr_train_e)\n",
    "print('Ошибка на тестовой выборке', arr_test_e)"
   ]
  },
  {
   "cell_type": "code",
   "execution_count": 287,
   "id": "d044c608",
   "metadata": {},
   "outputs": [
    {
     "name": "stdout",
     "output_type": "stream",
     "text": [
      "Ошибка на обучающей выборке 0.07042993797960684\n",
      "Ошибка на тестовой выборке 0.3336486912645853\n"
     ]
    }
   ],
   "source": [
    "mlp_model = MLPClassifier(hidden_layer_sizes = (100,100,),\n",
    "                          solver = 'adam', \n",
    "                          activation = 'logistic',\n",
    "                          max_iter=100000,\n",
    "                          random_state = 44)\n",
    "mlp_model.fit(X_train, y_train)\n",
    "arr_test_e=(1 - mlp_model.score(X_test, y_test))\n",
    "arr_train_e=(1- mlp_model.score(X_train, y_train))\n",
    "print('Ошибка на обучающей выборке', arr_train_e)\n",
    "print('Ошибка на тестовой выборке', arr_test_e)"
   ]
  },
  {
   "cell_type": "markdown",
   "id": "7ed03c00",
   "metadata": {},
   "source": [
    "#### Возьмем в качестве основного решателя **adam**, и функцию активации **relu**"
   ]
  },
  {
   "cell_type": "markdown",
   "id": "99e45aa2",
   "metadata": {},
   "source": [
    "## Тесты с одним нейронным слоем"
   ]
  },
  {
   "cell_type": "markdown",
   "id": "c6e49333",
   "metadata": {},
   "source": [
    "### Найдем оптимальный параметр регуляризации *alpha* "
   ]
  },
  {
   "cell_type": "code",
   "execution_count": 288,
   "id": "8395d0b7",
   "metadata": {},
   "outputs": [],
   "source": [
    "from sklearn.metrics import accuracy_score\n",
    "alpha_arr = np.logspace(-3, 2, 21)\n",
    "test_err = []\n",
    "train_err = []\n",
    "train_acc = []\n",
    "test_acc = []\n",
    "\n",
    "for alpha in alpha_arr:\n",
    "    mlp_model = MLPClassifier(alpha = alpha, hidden_layer_sizes = (100,), \n",
    "                              solver = 'adam', activation = 'relu', max_iter=100000, random_state = 42)\n",
    "    mlp_model.fit(X_train, y_train)\n",
    "\n",
    "    y_train_pred = mlp_model.predict(X_train)\n",
    "    y_test_pred = mlp_model.predict(X_test)\n",
    "    \n",
    "    train_err.append(np.mean(y_train != y_train_pred))\n",
    "    test_err.append(np.mean(y_test != y_test_pred))\n",
    "    train_acc.append(accuracy_score(y_train, y_train_pred))\n",
    "    test_acc.append(accuracy_score(y_test, y_test_pred))"
   ]
  },
  {
   "cell_type": "code",
   "execution_count": 300,
   "id": "b722e442",
   "metadata": {},
   "outputs": [],
   "source": [
    "def plot_error_vs(alpha_arr, train_err, test_err, text=''):\n",
    "    plt.semilogx(alpha_arr, train_err, 'b-o', label = 'train')\n",
    "    plt.semilogx(alpha_arr, test_err, 'r-o', label = 'test')\n",
    "    plt.xlim([np.min(alpha_arr), np.max(alpha_arr)])\n",
    "    plt.title('Error vs. '+text)\n",
    "    plt.xlabel(text)\n",
    "    plt.ylabel('error')\n",
    "    plt.legend()\n",
    "def print_min_error(train_err,test_err):\n",
    "    min_train_err = np.min(train_err)\n",
    "    min_test_err = np.min(test_err)\n",
    "    print(\"minimal error:\",min_train_err, min_test_err)"
   ]
  },
  {
   "cell_type": "code",
   "execution_count": 301,
   "id": "1fe521ba",
   "metadata": {},
   "outputs": [
    {
     "data": {
      "image/png": "[encoded data removed]",
      "text/plain": [
       "<Figure size 432x288 with 1 Axes>"
      ]
     },
     "metadata": {
      "needs_background": "light"
     },
     "output_type": "display_data"
    }
   ],
   "source": [
    "plot_error_vs(alpha_arr,train_err,test_err,'alpha')"
   ]
  },
  {
   "cell_type": "markdown",
   "id": "0f3ff234",
   "metadata": {},
   "source": [
    "Как мы видим при достаточно большом *alpha* происходит переобучение и ошибка возрастает. Найдем минимальную ошибку и оптимальное *alpha* "
   ]
  },
  {
   "cell_type": "code",
   "execution_count": 302,
   "id": "a9c3c0a5",
   "metadata": {
    "scrolled": false
   },
   "outputs": [
    {
     "name": "stdout",
     "output_type": "stream",
     "text": [
      "minimal error: 0.1141595711132135 0.28949858088930935\n"
     ]
    }
   ],
   "source": [
    "print_min_error(train_err,test_err)"
   ]
  },
  {
   "cell_type": "code",
   "execution_count": 309,
   "id": "9dc705e2",
   "metadata": {},
   "outputs": [
    {
     "name": "stdout",
     "output_type": "stream",
     "text": [
      "[0.31622777]\n"
     ]
    }
   ],
   "source": [
    "alpha_opt = alpha_arr[test_err == np.min(test_err)]\n",
    "print(alpha_opt)"
   ]
  },
  {
   "cell_type": "markdown",
   "id": "5bc752ff",
   "metadata": {},
   "source": [
    "Возьмем этот парметр *alpha* и протестируем классификатор с разным кол-вом нейронов в одном слое"
   ]
  },
  {
   "cell_type": "markdown",
   "id": "deb6517d",
   "metadata": {},
   "source": [
    "### Тест с разным количеством нейронов в слое"
   ]
  },
  {
   "cell_type": "code",
   "execution_count": 305,
   "id": "22bde8b2",
   "metadata": {},
   "outputs": [],
   "source": [
    "from sklearn.metrics import accuracy_score\n",
    "neuron_arr = np.logspace(1, 3, 10)\n",
    "neuron_arr=neuron_arr.astype('int')\n",
    "test_err1 = []\n",
    "train_err1 = []\n",
    "train_acc1 = []\n",
    "test_acc1 = []\n",
    "\n",
    "for neuron in neuron_arr:\n",
    "    mlp_model = MLPClassifier(alpha = alpha_opt, hidden_layer_sizes = (neuron,), \n",
    "                              solver = 'adam', activation = 'relu', max_iter=100000, random_state = 358)\n",
    "    mlp_model.fit(X_train, y_train)\n",
    "    y_train_pred = mlp_model.predict(X_train)\n",
    "    y_test_pred = mlp_model.predict(X_test)\n",
    "    train_err1.append(np.mean(y_train != y_train_pred))\n",
    "    test_err1.append(np.mean(y_test != y_test_pred))\n",
    "    train_acc1.append(accuracy_score(y_train, y_train_pred))\n",
    "    test_acc1.append(accuracy_score(y_test, y_test_pred))"
   ]
  },
  {
   "cell_type": "code",
   "execution_count": 307,
   "id": "de43b51d",
   "metadata": {},
   "outputs": [
    {
     "data": {
      "image/png": "[encoded data removed]",
      "text/plain": [
       "<Figure size 432x288 with 1 Axes>"
      ]
     },
     "metadata": {
      "needs_background": "light"
     },
     "output_type": "display_data"
    }
   ],
   "source": [
    "plot_error_vs(neuron_arr, train_err1,test_err1,'neuron count')"
   ]
  },
  {
   "cell_type": "markdown",
   "id": "76be1fcb",
   "metadata": {},
   "source": [
    "Здесь мы можем заметить на данном графике, что изменение количества нейронов в слое на сильно влияет на ошибку предсказания, найдем минимальную ошибку и кол-во нейронов при такой ошибке"
   ]
  },
  {
   "cell_type": "code",
   "execution_count": 308,
   "id": "d6475585",
   "metadata": {},
   "outputs": [
    {
     "name": "stdout",
     "output_type": "stream",
     "text": [
      "minimal error: 0.13129401871123725 0.2869757174392936\n"
     ]
    }
   ],
   "source": [
    "print_min_error(train_err1,test_err1)"
   ]
  },
  {
   "cell_type": "code",
   "execution_count": 311,
   "id": "8166c821",
   "metadata": {},
   "outputs": [
    {
     "name": "stdout",
     "output_type": "stream",
     "text": [
      "[599]\n"
     ]
    }
   ],
   "source": [
    "neuron_opt = neuron_arr[test_err1 == np.min(test_err1)]\n",
    "print(neuron_opt)"
   ]
  },
  {
   "cell_type": "markdown",
   "id": "dba55de8",
   "metadata": {},
   "source": [
    "### Построим классификатор с наилучшим параметром регуляризации и количеством нейронов в слое"
   ]
  },
  {
   "cell_type": "code",
   "execution_count": 329,
   "id": "07b31a84",
   "metadata": {},
   "outputs": [
    {
     "name": "stdout",
     "output_type": "stream",
     "text": [
      "(9513, 34) (9513,)\n",
      "0.15032061389677284\n",
      "0.29202144433932514\n"
     ]
    }
   ],
   "source": [
    "from sklearn.neural_network import MLPClassifier\n",
    "mlp_model_opt = MLPClassifier(alpha = alpha_opt, hidden_layer_sizes = (int(neuron_opt),),\n",
    "                          solver = 'adam', activation = 'relu', max_iter=100000, random_state = 538)\n",
    "print(X_train.shape, y_train.shape)\n",
    "mlp_model_opt.fit(X_train, y_train)\n",
    "\n",
    "y_train_pred = mlp_model_opt.predict(X_train)\n",
    "y_test_pred = mlp_model_opt.predict(X_test)\n",
    "print(np.mean(y_train != y_train_pred))\n",
    "print(np.mean(y_test != y_test_pred))"
   ]
  },
  {
   "cell_type": "markdown",
   "id": "ba6cbaf0",
   "metadata": {},
   "source": [
    "Построим матрицу рассогласования"
   ]
  },
  {
   "cell_type": "code",
   "execution_count": 331,
   "id": "f608d521",
   "metadata": {},
   "outputs": [
    {
     "name": "stdout",
     "output_type": "stream",
     "text": [
      "[[1358  541]\n",
      " [ 385  887]]\n"
     ]
    }
   ],
   "source": [
    "from sklearn.metrics import confusion_matrix\n",
    "print(confusion_matrix(y_test_pred, y_test))"
   ]
  },
  {
   "cell_type": "code",
   "execution_count": 332,
   "id": "c6bedb33",
   "metadata": {},
   "outputs": [
    {
     "data": {
      "text/plain": [
       "<sklearn.metrics._plot.confusion_matrix.ConfusionMatrixDisplay at 0x2280348da60>"
      ]
     },
     "execution_count": 332,
     "metadata": {},
     "output_type": "execute_result"
    },
    {
     "data": {
      "image/png": "[encoded data removed]",
      "text/plain": [
       "<Figure size 432x288 with 2 Axes>"
      ]
     },
     "metadata": {
      "needs_background": "light"
     },
     "output_type": "display_data"
    }
   ],
   "source": [
    "from sklearn.metrics import plot_confusion_matrix\n",
    "plot_confusion_matrix(mlp_model_opt, X_test, y_test,) "
   ]
  },
  {
   "cell_type": "markdown",
   "id": "77ed4b5a",
   "metadata": {},
   "source": [
    "Построим таблицу \"точности\" предсказания"
   ]
  },
  {
   "cell_type": "code",
   "execution_count": 333,
   "id": "666e0137",
   "metadata": {},
   "outputs": [
    {
     "name": "stdout",
     "output_type": "stream",
     "text": [
      "              precision    recall  f1-score   support\n",
      "\n",
      "           0       0.72      0.78      0.75      1743\n",
      "           1       0.70      0.62      0.66      1428\n",
      "\n",
      "    accuracy                           0.71      3171\n",
      "   macro avg       0.71      0.70      0.70      3171\n",
      "weighted avg       0.71      0.71      0.71      3171\n",
      "\n"
     ]
    }
   ],
   "source": [
    "from sklearn.metrics import roc_curve\n",
    "\n",
    "\n",
    "from sklearn.metrics import classification_report\n",
    "print(classification_report(y_test, y_test_pred))"
   ]
  },
  {
   "cell_type": "markdown",
   "id": "3d660eaa",
   "metadata": {},
   "source": [
    "Построим ROC-кривую"
   ]
  },
  {
   "cell_type": "code",
   "execution_count": 334,
   "id": "91342b38",
   "metadata": {},
   "outputs": [
    {
     "data": {
      "image/png": "[encoded data removed]",
      "text/plain": [
       "<Figure size 432x288 with 1 Axes>"
      ]
     },
     "metadata": {
      "needs_background": "light"
     },
     "output_type": "display_data"
    }
   ],
   "source": [
    "roc=plot_roc_curve(mlp_model, X_test, y_test)\n",
    "line=plt.plot([0,1],[0,1],'--')\n",
    "plt.gca().set_aspect('equal')"
   ]
  },
  {
   "cell_type": "markdown",
   "id": "2093b1c4",
   "metadata": {},
   "source": [
    "## Тесты с двумя нейронными слоями"
   ]
  },
  {
   "cell_type": "markdown",
   "id": "9c62cc2a",
   "metadata": {},
   "source": [
    "### Найдем оптимальный параметр регуляризации *alpha* "
   ]
  },
  {
   "cell_type": "code",
   "execution_count": 339,
   "id": "f59f5420",
   "metadata": {},
   "outputs": [],
   "source": [
    "from sklearn.metrics import accuracy_score\n",
    "alpha_arr = np.logspace(-3, 2, 21)\n",
    "test_err = []\n",
    "train_err = []\n",
    "train_acc = []\n",
    "test_acc = []\n",
    "for alpha in alpha_arr:\n",
    "    mlp_model = MLPClassifier(alpha = alpha, hidden_layer_sizes = (100,100), \n",
    "                              solver = 'adam', activation = 'relu', max_iter=100000, random_state = 358)\n",
    "    mlp_model.fit(X_train, y_train)\n",
    "    y_train_pred = mlp_model.predict(X_train)\n",
    "    y_test_pred = mlp_model.predict(X_test)\n",
    "    train_err.append(np.mean(y_train != y_train_pred))\n",
    "    test_err.append(np.mean(y_test != y_test_pred))\n",
    "    train_acc.append(accuracy_score(y_train, y_train_pred))\n",
    "    test_acc.append(accuracy_score(y_test, y_test_pred))"
   ]
  },
  {
   "cell_type": "code",
   "execution_count": 340,
   "id": "519fd734",
   "metadata": {},
   "outputs": [
    {
     "data": {
      "image/png": "[encoded data removed]",
      "text/plain": [
       "<Figure size 432x288 with 1 Axes>"
      ]
     },
     "metadata": {
      "needs_background": "light"
     },
     "output_type": "display_data"
    }
   ],
   "source": [
    "plot_error_vs(alpha_arr,train_err,test_err,'alpha')"
   ]
  },
  {
   "cell_type": "markdown",
   "id": "c4cc9629",
   "metadata": {},
   "source": [
    "Также видим преобучение модели при большом параметре *alpha*, найдем мин ошибку и оптимальное *alpha*"
   ]
  },
  {
   "cell_type": "code",
   "execution_count": 341,
   "id": "da2c6095",
   "metadata": {
    "scrolled": false
   },
   "outputs": [
    {
     "name": "stdout",
     "output_type": "stream",
     "text": [
      "minimal error: 0.01061705035214969 0.2901292967518133\n"
     ]
    }
   ],
   "source": [
    "print_min_error(train_err,test_err)"
   ]
  },
  {
   "cell_type": "code",
   "execution_count": 342,
   "id": "08672d92",
   "metadata": {},
   "outputs": [
    {
     "name": "stdout",
     "output_type": "stream",
     "text": [
      "[1.]\n"
     ]
    }
   ],
   "source": [
    "alpha_opt = alpha_arr[test_err == np.min(test_err)]\n",
    "print(alpha_opt)"
   ]
  },
  {
   "cell_type": "markdown",
   "id": "6884b9d8",
   "metadata": {},
   "source": [
    "### Тест с разным количеством нейронов в слоях"
   ]
  },
  {
   "cell_type": "code",
   "execution_count": 344,
   "id": "f06de416",
   "metadata": {},
   "outputs": [],
   "source": [
    "from sklearn.metrics import accuracy_score\n",
    "neuron_arr = np.logspace(1, 3, 10)\n",
    "neuron_arr=neuron_arr.astype('int')\n",
    "test_err1 = []\n",
    "train_err1 = []\n",
    "train_acc1 = []\n",
    "test_acc1 = []\n",
    "for neuron in neuron_arr:\n",
    "    mlp_model = MLPClassifier(alpha = alpha_opt, hidden_layer_sizes = (neuron, neuron,), \n",
    "                              solver = 'adam', activation = 'relu', max_iter=100000, random_state = 358)\n",
    "    mlp_model.fit(X_train, y_train)\n",
    "\n",
    "    y_train_pred = mlp_model.predict(X_train)\n",
    "    y_test_pred = mlp_model.predict(X_test)\n",
    "    \n",
    "    train_err1.append(np.mean(y_train != y_train_pred))\n",
    "    test_err1.append(np.mean(y_test != y_test_pred))\n",
    "    train_acc1.append(accuracy_score(y_train, y_train_pred))\n",
    "    test_acc1.append(accuracy_score(y_test, y_test_pred))"
   ]
  },
  {
   "cell_type": "code",
   "execution_count": 345,
   "id": "4a976317",
   "metadata": {},
   "outputs": [
    {
     "data": {
      "image/png": "[encoded data removed]",
      "text/plain": [
       "<Figure size 432x288 with 1 Axes>"
      ]
     },
     "metadata": {
      "needs_background": "light"
     },
     "output_type": "display_data"
    }
   ],
   "source": [
    "plot_error_vs(neuron_arr, train_err1,test_err1,'neuron count')"
   ]
  },
  {
   "cell_type": "markdown",
   "id": "81242764",
   "metadata": {},
   "source": [
    "Также видим что при увеличении кол-ва нейронов в слоях ошибка особо не меняется, найдем минимальную ошибку и кол-во нейронов, при которых она достигается\n"
   ]
  },
  {
   "cell_type": "code",
   "execution_count": 346,
   "id": "2fb1cb92",
   "metadata": {},
   "outputs": [
    {
     "name": "stdout",
     "output_type": "stream",
     "text": [
      "minimal error: 0.14853358561967833 0.2923368022705771\n"
     ]
    }
   ],
   "source": [
    "print_min_error(train_err1,test_err1)"
   ]
  },
  {
   "cell_type": "code",
   "execution_count": 347,
   "id": "446d96ae",
   "metadata": {},
   "outputs": [
    {
     "name": "stdout",
     "output_type": "stream",
     "text": [
      "[10]\n"
     ]
    }
   ],
   "source": [
    "neuron_opt = neuron_arr[test_err1 == np.min(test_err1)]\n",
    "print(neuron_opt)"
   ]
  },
  {
   "cell_type": "markdown",
   "id": "709089ce",
   "metadata": {},
   "source": [
    "### Построим классификатор с наилучшим параметром регуляризации и количеством нейронов в слое"
   ]
  },
  {
   "cell_type": "code",
   "execution_count": 348,
   "id": "fd9bfd1c",
   "metadata": {},
   "outputs": [
    {
     "name": "stdout",
     "output_type": "stream",
     "text": [
      "(9513, 34) (9513,)\n",
      "0.27877641122674235\n",
      "0.3090507726269316\n"
     ]
    }
   ],
   "source": [
    "from sklearn.neural_network import MLPClassifier\n",
    "mlp_model_opt = MLPClassifier(alpha = alpha_opt, hidden_layer_sizes = (int(neuron_opt),),\n",
    "                          solver = 'adam', activation = 'relu', max_iter=100000, random_state = 538)\n",
    "print(X_train.shape, y_train.shape)\n",
    "mlp_model_opt.fit(X_train, y_train)\n",
    "\n",
    "y_train_pred = mlp_model_opt.predict(X_train)\n",
    "y_test_pred = mlp_model_opt.predict(X_test)\n",
    "print(np.mean(y_train != y_train_pred))\n",
    "print(np.mean(y_test != y_test_pred))"
   ]
  },
  {
   "cell_type": "markdown",
   "id": "6250974a",
   "metadata": {},
   "source": [
    "Построим матрицу рассогласования"
   ]
  },
  {
   "cell_type": "code",
   "execution_count": 349,
   "id": "01685b00",
   "metadata": {},
   "outputs": [
    {
     "name": "stdout",
     "output_type": "stream",
     "text": [
      "[[1351  588]\n",
      " [ 392  840]]\n"
     ]
    }
   ],
   "source": [
    "from sklearn.metrics import confusion_matrix\n",
    "print(confusion_matrix(y_test_pred, y_test))"
   ]
  },
  {
   "cell_type": "code",
   "execution_count": 350,
   "id": "e3e4cf6f",
   "metadata": {},
   "outputs": [
    {
     "data": {
      "text/plain": [
       "<sklearn.metrics._plot.confusion_matrix.ConfusionMatrixDisplay at 0x22803201b20>"
      ]
     },
     "execution_count": 350,
     "metadata": {},
     "output_type": "execute_result"
    },
    {
     "data": {
      "image/png": "[encoded data removed]",
      "text/plain": [
       "<Figure size 432x288 with 2 Axes>"
      ]
     },
     "metadata": {
      "needs_background": "light"
     },
     "output_type": "display_data"
    }
   ],
   "source": [
    "from sklearn.metrics import plot_confusion_matrix\n",
    "plot_confusion_matrix(mlp_model_opt, X_test, y_test,) "
   ]
  },
  {
   "cell_type": "markdown",
   "id": "859e2476",
   "metadata": {},
   "source": [
    "Построим таблицу \"точности\" предсказания"
   ]
  },
  {
   "cell_type": "code",
   "execution_count": 351,
   "id": "eaabde9b",
   "metadata": {},
   "outputs": [
    {
     "name": "stdout",
     "output_type": "stream",
     "text": [
      "              precision    recall  f1-score   support\n",
      "\n",
      "           0       0.70      0.78      0.73      1743\n",
      "           1       0.68      0.59      0.63      1428\n",
      "\n",
      "    accuracy                           0.69      3171\n",
      "   macro avg       0.69      0.68      0.68      3171\n",
      "weighted avg       0.69      0.69      0.69      3171\n",
      "\n"
     ]
    }
   ],
   "source": [
    "from sklearn.metrics import roc_curve\n",
    "from sklearn.metrics import classification_report\n",
    "print(classification_report(y_test, y_test_pred))"
   ]
  },
  {
   "cell_type": "markdown",
   "id": "1f0b8d16",
   "metadata": {},
   "source": [
    "Построим ROC-кривую"
   ]
  },
  {
   "cell_type": "code",
   "execution_count": 352,
   "id": "e102cb75",
   "metadata": {},
   "outputs": [
    {
     "data": {
      "image/png": "[encoded data removed]",
      "text/plain": [
       "<Figure size 432x288 with 1 Axes>"
      ]
     },
     "metadata": {
      "needs_background": "light"
     },
     "output_type": "display_data"
    }
   ],
   "source": [
    "roc=plot_roc_curve(mlp_model, X_test, y_test)\n",
    "line=plt.plot([0,1],[0,1],'--')\n",
    "plt.gca().set_aspect('equal')"
   ]
  },
  {
   "cell_type": "markdown",
   "id": "6da64527",
   "metadata": {},
   "source": [
    "# Вывод:"
   ]
  },
  {
   "cell_type": "markdown",
   "id": "3ef95280",
   "metadata": {},
   "source": [
    "Точность предугадывания того, что человек возьмет купон достигает 68-70%, а того, что не примет - 70-72%. Минимальная ошибка, достигнутая на данном классификаторе составляет ~28%. При этом ошибка по сравнению с другими классификаторами особо не уменьшилась, так же особого влияния не оказывает разное количество слоев нейронной сети. Можно сказать, что для этой задачи использование MLP классификатора не особо подходит, скорее всего это связано с тем, что у нас много категориальных признаков."
   ]
  },
  {
   "cell_type": "code",
   "execution_count": null,
   "id": "398997fa",
   "metadata": {},
   "outputs": [],
   "source": []
  }
 ],
 "metadata": {
  "kernelspec": {
   "display_name": "Python 3 (ipykernel)",
   "language": "python",
   "name": "python3"
  },
  "language_info": {
   "codemirror_mode": {
    "name": "ipython",
    "version": 3
   },
   "file_extension": ".py",
   "mimetype": "text/x-python",
   "name": "python",
   "nbconvert_exporter": "python",
   "pygments_lexer": "ipython3",
   "version": "3.9.7"
  }
 },
 "nbformat": 4,
 "nbformat_minor": 5
}
